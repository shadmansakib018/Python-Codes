{
  "nbformat": 4,
  "nbformat_minor": 0,
  "metadata": {
    "colab": {
      "name": "N-QUEENS.ipynb",
      "provenance": []
    },
    "kernelspec": {
      "name": "python3",
      "display_name": "Python 3"
    }
  },
  "cells": [
    {
      "cell_type": "markdown",
      "metadata": {
        "id": "f2upRrTWbofh"
      },
      "source": [
        "#N-QUEENS PUZZLE\n",
        "The eight queens puzzle is the problem of placing eight chess queens on an 8×8 chessboard so that no two queens threaten each other; thus, a solution requires that no two queens share the same row, column, or diagonal. The eight queens puzzle is an example of the more general n queens problem of placing n non-attacking queens on an n×n chessboard, for which solutions exist for all natural numbers n with the exception of n = 2 and n = 3.\n",
        "https://en.wikipedia.org/wiki/Eight_queens_puzzle"
      ]
    },
    {
      "cell_type": "markdown",
      "metadata": {
        "id": "-adlRfl1cZ64"
      },
      "source": [
        "####To solve this puzzle I used the Genetic algorithm approach. It can also be solved using Backtracking."
      ]
    },
    {
      "cell_type": "code",
      "metadata": {
        "id": "HlXOHjHynPLG",
        "outputId": "373979d5-b9b0-4d03-a1e7-9c4861e98c33",
        "colab": {
          "base_uri": "https://localhost:8080/",
          "height": 54
        }
      },
      "source": [
        "import random\n",
        "\n",
        "def fitness_func(a):\n",
        "  fv=0\n",
        "  for i in range(len(a)):\n",
        "    j=i+1\n",
        "    while(j<len(a)):\n",
        "      if((a[i]!=a[j])and(a[j]!=a[i]+(j-i))and(a[j]!=a[i]-(j-i))):\n",
        "        fv=fv+2\n",
        "      j=j+1\n",
        "  return (fv/2)\n",
        "\n",
        "def random_chromosome(size):\n",
        "    return [ random.randint(1, nq) for i in range(nq) ]\n",
        "\n",
        "def cross_over(a1,a2):\n",
        "  n=random.randint(1, (nq-1))\n",
        "  arr1=a1[0:n]+a2[n:nq]\n",
        "  arr2=a2[0:n]+a1[n:nq]\n",
        "  return arr1,arr2\n",
        "\n",
        "def mutation(a1):\n",
        "  n=random.randint(1,nq)\n",
        "  i=random.randint(0,(nq-1))\n",
        "  a1[i]=n\n",
        "  return a1\n",
        "\n",
        "def compute():\n",
        "  for i in range(len(population)):\n",
        "    x=fitness_func(population[i])\n",
        "    if(x==max_fit):\n",
        "      flag=True\n",
        "      print(population[i])\n",
        "      break\n",
        "  return\n",
        "def selection():\n",
        "  i=random.randint(0,(len(population)-1))\n",
        "  return population[i]\n",
        "\n",
        "\n",
        "\n",
        "\n",
        "nq=int(input('Enter number of queens:'))\n",
        "max_fit=(nq*(nq-1))/2\n",
        "population = [random_chromosome(nq) for i in range(10)]\n",
        "\n",
        "flag=False\n",
        "compute()\n",
        "\n",
        "while(flag!=True):\n",
        "  l1=selection()\n",
        "  l2=selection()\n",
        "\n",
        "  l3,l4=cross_over(l1,l2)\n",
        "  ff1=fitness_func(l3)\n",
        "  ff2=fitness_func(l4)\n",
        "  if(ff1==max_fit):\n",
        "    print(l3)\n",
        "    flag=True\n",
        "    break\n",
        "  if(ff2==max_fit):\n",
        "    print(l4)\n",
        "    flag=True\n",
        "    break\n",
        "  l3=mutation(l3)\n",
        "  l4=mutation(l4)\n",
        "  \n",
        "  population.append(l3)\n",
        "  population.append(l4)\n"
      ],
      "execution_count": null,
      "outputs": [
        {
          "output_type": "stream",
          "text": [
            "Enter number of queens:8\n",
            "[1, 7, 5, 8, 2, 4, 6, 3]\n"
          ],
          "name": "stdout"
        }
      ]
    }
  ]
}