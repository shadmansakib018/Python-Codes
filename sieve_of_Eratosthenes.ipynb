{
  "nbformat": 4,
  "nbformat_minor": 0,
  "metadata": {
    "colab": {
      "name": "sieve of Eratosthenes.ipynb",
      "provenance": []
    },
    "kernelspec": {
      "name": "python3",
      "display_name": "Python 3"
    }
  },
  "cells": [
    {
      "cell_type": "markdown",
      "metadata": {
        "id": "9vYEVaBhY-qC"
      },
      "source": [
        "#The sieve of Eratosthenes\n",
        "This an ancient algorithm for finding all prime numbers up to any given limit. It does so by iteratively marking as composite the multiples of each prime, starting with the first prime number, 2."
      ]
    },
    {
      "cell_type": "code",
      "metadata": {
        "id": "4lZ43wMeqtYm",
        "outputId": "61d99104-3ad7-4331-b955-fcc38ffab45b",
        "colab": {
          "base_uri": "https://localhost:8080/",
          "height": 311
        }
      },
      "source": [
        "y=int(input(\"Enter upper threshold:\"))\n",
        "numlist=list(range(2,y))\n",
        "n=len(numlist)\n",
        "isprime=[True for i in range(n)]\n",
        "\n",
        "for i in range(n):\n",
        "  if(isprime[i]==False):\n",
        "    continue\n",
        "  for j in range((i+1),n):\n",
        "    if((numlist[j]%numlist[i])==0):\n",
        "      isprime[j]=False\n",
        "for a in range(n):\n",
        "  if(isprime[a]==True):\n",
        "    print(numlist[a])"
      ],
      "execution_count": 7,
      "outputs": [
        {
          "output_type": "stream",
          "text": [
            "Enter upper threshold:50\n",
            "2\n",
            "3\n",
            "5\n",
            "7\n",
            "11\n",
            "13\n",
            "17\n",
            "19\n",
            "23\n",
            "29\n",
            "31\n",
            "37\n",
            "41\n",
            "43\n",
            "47\n"
          ],
          "name": "stdout"
        }
      ]
    }
  ]
}